{
 "cells": [
  {
   "cell_type": "code",
   "execution_count": 85,
   "id": "782ca336",
   "metadata": {},
   "outputs": [],
   "source": [
    "import pandas as pd\n",
    "import warnings\n",
    "warnings.filterwarnings('ignore')"
   ]
  },
  {
   "cell_type": "code",
   "execution_count": 60,
   "id": "9006145e",
   "metadata": {},
   "outputs": [
    {
     "data": {
      "text/html": [
       "<div>\n",
       "<style scoped>\n",
       "    .dataframe tbody tr th:only-of-type {\n",
       "        vertical-align: middle;\n",
       "    }\n",
       "\n",
       "    .dataframe tbody tr th {\n",
       "        vertical-align: top;\n",
       "    }\n",
       "\n",
       "    .dataframe thead th {\n",
       "        text-align: right;\n",
       "    }\n",
       "</style>\n",
       "<table border=\"1\" class=\"dataframe\">\n",
       "  <thead>\n",
       "    <tr style=\"text-align: right;\">\n",
       "      <th></th>\n",
       "      <th>text</th>\n",
       "      <th>category</th>\n",
       "    </tr>\n",
       "  </thead>\n",
       "  <tbody>\n",
       "    <tr>\n",
       "      <th>0</th>\n",
       "      <td>Meditation and yoga can improve mental health</td>\n",
       "      <td>Health</td>\n",
       "    </tr>\n",
       "    <tr>\n",
       "      <th>1</th>\n",
       "      <td>Fruits, whole grains and vegetables helps cont...</td>\n",
       "      <td>Health</td>\n",
       "    </tr>\n",
       "    <tr>\n",
       "      <th>2</th>\n",
       "      <td>These are the latest fashion trends for this week</td>\n",
       "      <td>Fashion</td>\n",
       "    </tr>\n",
       "    <tr>\n",
       "      <th>3</th>\n",
       "      <td>Vibrant color jeans for male are becoming a trend</td>\n",
       "      <td>Fashion</td>\n",
       "    </tr>\n",
       "    <tr>\n",
       "      <th>4</th>\n",
       "      <td>The concert starts at 7 PM tonight</td>\n",
       "      <td>Event</td>\n",
       "    </tr>\n",
       "  </tbody>\n",
       "</table>\n",
       "</div>"
      ],
      "text/plain": [
       "                                                text category\n",
       "0      Meditation and yoga can improve mental health   Health\n",
       "1  Fruits, whole grains and vegetables helps cont...   Health\n",
       "2  These are the latest fashion trends for this week  Fashion\n",
       "3  Vibrant color jeans for male are becoming a trend  Fashion\n",
       "4                 The concert starts at 7 PM tonight    Event"
      ]
     },
     "execution_count": 60,
     "metadata": {},
     "output_type": "execute_result"
    }
   ],
   "source": [
    "df = pd.read_csv(r'D:\\Learnbay\\News Research Tool\\Testing\\sample_text.csv')\n",
    "df.head()"
   ]
  },
  {
   "cell_type": "code",
   "execution_count": 61,
   "id": "15e696c5",
   "metadata": {},
   "outputs": [
    {
     "name": "stderr",
     "output_type": "stream",
     "text": [
      "d:\\Learnbay\\News Research Tool\\venv\\Lib\\site-packages\\torch\\nn\\modules\\module.py:1762: FutureWarning: `encoder_attention_mask` is deprecated and will be removed in version 4.55.0 for `BertSdpaSelfAttention.forward`.\n",
      "  return forward_call(*args, **kwargs)\n"
     ]
    }
   ],
   "source": [
    "from sentence_transformers import SentenceTransformer\n",
    "encoder = SentenceTransformer(model_name_or_path='all-MiniLM-L6-v2')\n",
    "vectors = encoder.encode(df['text'])"
   ]
  },
  {
   "cell_type": "code",
   "execution_count": 62,
   "id": "9f1622f1",
   "metadata": {},
   "outputs": [
    {
     "data": {
      "text/plain": [
       "array([[ 0.06386315,  0.02910283,  0.00976355, ...,  0.01023018,\n",
       "        -0.02231211, -0.00268407],\n",
       "       [-0.05709034,  0.09636036,  0.00199014, ...,  0.06168114,\n",
       "        -0.0226081 ,  0.03472494],\n",
       "       [-0.08079229, -0.03503961,  0.03106481, ..., -0.16189392,\n",
       "         0.01315192,  0.05600094],\n",
       "       ...,\n",
       "       [-0.03807865,  0.00503377, -0.06084295, ..., -0.03014938,\n",
       "        -0.05972218,  0.04858848],\n",
       "       [ 0.09595466, -0.01580386,  0.00767662, ..., -0.06537455,\n",
       "        -0.07525399, -0.04042165],\n",
       "       [ 0.150499  , -0.01106241, -0.02882518, ..., -0.07340208,\n",
       "        -0.05694251,  0.02461096]], shape=(8, 384), dtype=float32)"
      ]
     },
     "execution_count": 62,
     "metadata": {},
     "output_type": "execute_result"
    }
   ],
   "source": [
    "vectors"
   ]
  },
  {
   "cell_type": "code",
   "execution_count": 63,
   "id": "9123ab4c",
   "metadata": {},
   "outputs": [
    {
     "data": {
      "text/plain": [
       "8"
      ]
     },
     "execution_count": 63,
     "metadata": {},
     "output_type": "execute_result"
    }
   ],
   "source": [
    "len(vectors)"
   ]
  },
  {
   "cell_type": "code",
   "execution_count": 64,
   "id": "4e4b7fb9",
   "metadata": {},
   "outputs": [],
   "source": [
    "dim = vectors.shape[1]"
   ]
  },
  {
   "cell_type": "markdown",
   "id": "dbb63ceb",
   "metadata": {},
   "source": [
    "* USE FAISS of Semantic search capability"
   ]
  },
  {
   "cell_type": "code",
   "execution_count": 65,
   "id": "5101ba6a",
   "metadata": {},
   "outputs": [],
   "source": [
    "import faiss\n",
    "index = faiss.IndexFlatL2(dim)\n",
    "index.add(vectors)"
   ]
  },
  {
   "cell_type": "markdown",
   "id": "dddc26ca",
   "metadata": {},
   "source": [
    "* search in faiss"
   ]
  },
  {
   "cell_type": "code",
   "execution_count": 66,
   "id": "6e6d746f",
   "metadata": {},
   "outputs": [
    {
     "data": {
      "text/plain": [
       "(384,)"
      ]
     },
     "execution_count": 66,
     "metadata": {},
     "output_type": "execute_result"
    }
   ],
   "source": [
    "search_qurey = 'i want to buy polo t-shirt'\n",
    "s_vec =encoder.encode(search_qurey)\n",
    "s_vec.shape"
   ]
  },
  {
   "cell_type": "code",
   "execution_count": 67,
   "id": "4c960026",
   "metadata": {},
   "outputs": [
    {
     "data": {
      "text/plain": [
       "(1, 384)"
      ]
     },
     "execution_count": 67,
     "metadata": {},
     "output_type": "execute_result"
    }
   ],
   "source": [
    "s_vec = s_vec.reshape(-1 , 384)\n",
    "s_vec.shape"
   ]
  },
  {
   "cell_type": "code",
   "execution_count": 68,
   "id": "27868985",
   "metadata": {},
   "outputs": [],
   "source": [
    "diastance , idx = index.search(s_vec , k=2)"
   ]
  },
  {
   "cell_type": "code",
   "execution_count": 69,
   "id": "5c016ac6",
   "metadata": {},
   "outputs": [
    {
     "name": "stdout",
     "output_type": "stream",
     "text": [
      "                                                text category\n",
      "2  These are the latest fashion trends for this week  Fashion\n",
      "3  Vibrant color jeans for male are becoming a trend  Fashion\n"
     ]
    }
   ],
   "source": [
    "print(df.iloc[idx[0]])"
   ]
  },
  {
   "cell_type": "code",
   "execution_count": 73,
   "id": "b0b7b746",
   "metadata": {},
   "outputs": [
    {
     "data": {
      "text/plain": [
       "'i want to buy polo t-shirt'"
      ]
     },
     "execution_count": 73,
     "metadata": {},
     "output_type": "execute_result"
    }
   ],
   "source": [
    "search_qurey"
   ]
  },
  {
   "cell_type": "markdown",
   "id": "5eb367df",
   "metadata": {},
   "source": [
    "* Sencod example"
   ]
  },
  {
   "cell_type": "code",
   "execution_count": 90,
   "id": "c0c20dfb",
   "metadata": {},
   "outputs": [
    {
     "name": "stdout",
     "output_type": "stream",
     "text": [
      "                                                text category\n",
      "1  Fruits, whole grains and vegetables helps cont...   Health\n",
      "0      Meditation and yoga can improve mental health   Health\n"
     ]
    }
   ],
   "source": [
    "search_qurey = 'an apple a day keep doctor away'\n",
    "s_vec  = encoder.encode(search_qurey)\n",
    "s_vec = s_vec.reshape(1 , s_vec.shape[0])\n",
    "\n",
    "diastance , idx  = index.search(s_vec , k=2)\n",
    "print(df.iloc[idx[0]])"
   ]
  },
  {
   "cell_type": "markdown",
   "id": "304581b0",
   "metadata": {},
   "source": [
    "* third question"
   ]
  },
  {
   "cell_type": "code",
   "execution_count": 91,
   "id": "534d0058",
   "metadata": {},
   "outputs": [
    {
     "name": "stdout",
     "output_type": "stream",
     "text": [
      "                                                text category\n",
      "6  Exciting vacation destinations for your next trip   Travel\n",
      "7  Maldives and Srilanka are gaining popularity i...   Travel\n"
     ]
    }
   ],
   "source": [
    "search_qurey = 'looking for the place to visit during holidays'\n",
    "s_vec  = encoder.encode(search_qurey)\n",
    "s_vec = s_vec.reshape(1 , s_vec.shape[0])\n",
    "\n",
    "diastance , idx  = index.search(s_vec , k=2)\n",
    "print(df.iloc[idx[0]])"
   ]
  },
  {
   "cell_type": "code",
   "execution_count": null,
   "id": "19157896",
   "metadata": {},
   "outputs": [],
   "source": []
  }
 ],
 "metadata": {
  "kernelspec": {
   "display_name": "venv",
   "language": "python",
   "name": "python3"
  },
  "language_info": {
   "codemirror_mode": {
    "name": "ipython",
    "version": 3
   },
   "file_extension": ".py",
   "mimetype": "text/x-python",
   "name": "python",
   "nbconvert_exporter": "python",
   "pygments_lexer": "ipython3",
   "version": "3.11.4"
  }
 },
 "nbformat": 4,
 "nbformat_minor": 5
}
