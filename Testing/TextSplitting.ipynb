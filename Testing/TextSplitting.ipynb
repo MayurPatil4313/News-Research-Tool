{
 "cells": [
  {
   "cell_type": "markdown",
   "id": "11dd94c3",
   "metadata": {},
   "source": [
    "- Splitting the text according to the tocken size of LLM"
   ]
  },
  {
   "cell_type": "code",
   "execution_count": 4,
   "id": "2a391f4b",
   "metadata": {},
   "outputs": [],
   "source": [
    "text = \"\"\"\n",
    "OpenAI, Inc. is an American artificial intelligence (AI) organization founded in December 2015 and headquartered in San Francisco, California. It aims to develop \"safe and beneficial\" artificial general intelligence (AGI), which it defines as \"highly autonomous systems that outperform humans at most economically valuable work\".[6] As a leading organization in the ongoing AI boom,[7] OpenAI is known for the GPT family of large language models, the DALL-E series of text-to-image models, and a text-to-video model named Sora.[8][9] Its release of ChatGPT in November 2022 has been credited with catalyzing widespread interest in generative AI.\n",
    "\n",
    "The organization has a complex corporate structure. As of April 2025, it is led by the non-profit OpenAI, Inc.,[1] registered in Delaware, and has multiple for-profit subsidiaries including OpenAI Holdings, LLC and OpenAI Global, LLC.[10] Microsoft has invested US$13 billion in OpenAI, and is entitled to 49% of OpenAI Global, LLC's profits, capped at an estimated 10x their investment.[11][12] Microsoft also provides computing resources to OpenAI through its cloud platform, Microsoft Azure.[13]\n",
    "\n",
    "In 2023 and 2024, OpenAI faced multiple lawsuits for alleged copyright infringement against authors and media companies whose work was used to train some of OpenAI's products. In November 2023, OpenAI's board removed Sam Altman as CEO, citing a lack of confidence in him, but reinstated him five days later following a reconstruction of the board. Throughout 2024, roughly half of then-employed AI safety researchers left OpenAI, citing the company's prominent role in an industry-wide problem.[14][15]\n",
    "\n",
    "History\n",
    "2015: founding and initial motivations\n",
    "\n",
    "Former headquarters at the Pioneer Building in San Francisco\n",
    "In December 2015, OpenAI was founded by Sam Altman, Elon Musk, Ilya Sutskever, Greg Brockman, Trevor Blackwell, Vicki Cheung, Andrej Karpathy, Durk Kingma, John Schulman, Pamela Vagata, and Wojciech Zaremba, with Sam Altman and Elon Musk as the co-chairs.[16] A total of $1 billion in capital was pledged by Sam Altman, Greg Brockman, Elon Musk, Reid Hoffman, Jessica Livingston, Peter Thiel, Amazon Web Services (AWS), Infosys, and YC Research.[17][18] The actual collected total amount of contributions was only $130 million until 2019.[10] According to an investigation led by TechCrunch, while YC Research never contributed any funds, Open Philanthropy contributed $30 million and another $15 million in verifiable donations were traced back to Musk.[19] OpenAI later stated that Musk's contributions totaled less than $45 million.[20] The organization stated it would \"freely collaborate\" with other institutions and researchers by making its patents and research open to the public.[21][22] OpenAI was initially run from Brockman's living room.[23] It was later headquartered at the Pioneer Building in the Mission District, San Francisco.[24][25]\n",
    "\n",
    "According to OpenAI's charter, its founding mission is \"to ensure that artificial general intelligence (AGI)—by which we mean highly autonomous systems that outperform humans at most economically valuable work—benefits all of humanity.\"[6]\n",
    "\n",
    "Musk and Altman stated in 2015 that they were partly motivated by concerns about AI safety and existential risk from artificial general intelligence.[26][27] OpenAI stated that \"it's hard to fathom how much human-level AI could benefit society\", and that it is equally difficult to comprehend \"how much it could damage society if built or used incorrectly\".[22] The startup also wrote that AI \"should be an extension of individual human wills and, in the spirit of liberty, as broadly and evenly distributed as possible\",[22] and that \"because of AI's surprising history, it's hard to predict when human-level AI might come within reach. When it does, it'll be important to have a leading research institution which can prioritize a good outcome for all over its own self-interest.\"[28] Co-chair Sam Altman expected a decades-long project that eventually surpasses human intelligence.[29]\n",
    "\n",
    "Vishal Sikka, former CEO of Infosys, stated that an \"openness\", where the endeavor would \"produce results generally in the greater interest of humanity\", was a fundamental requirement for his support; and that OpenAI \"aligns very nicely with our long-held values\" and their \"endeavor to do purposeful work\".[30] Cade Metz of Wired suggested that corporations such as Amazon might be motivated by a desire to use open-source software and data to level the playing field against corporations such as Google and Facebook, which own enormous supplies of proprietary data. Altman stated that Y Combinator companies would share their data with OpenAI.[29]\n",
    "\n",
    "According to Wired, Brockman met with Yoshua Bengio, one of the \"founding fathers\" of deep learning, and drew up a list of the \"best researchers in the field\".[31] Brockman was able to hire nine of them as the first employees in December 2015.[31] In 2016, OpenAI paid corporate-level (rather than nonprofit-level) salaries, but did not pay AI researchers salaries comparable to those of Facebook or Google.[31]\n",
    "\n",
    "Microsoft's Peter Lee stated that the cost of a top AI researcher exceeds the cost of a top NFL quarterback prospect.[31] OpenAI's potential and mission drew these researchers to the firm; a Google employee said he was willing to leave Google for OpenAI \"partly because of the very strong group of people and, to a very large extent, because of its mission.\"[31] Brockman stated that \"the best thing that I could imagine doing was moving humanity closer to building real AI in a safe way.\"[31] OpenAI co-founder Wojciech Zaremba stated that he turned down \"borderline crazy\" offers of two to three times his market value to join OpenAI instead.[31]\n",
    "\n",
    "In April 2016, OpenAI released a public beta of \"OpenAI Gym\", its platform for reinforcement learning research.[32] Nvidia gifted its first DGX-1 supercomputer to OpenAI in August 2016 to help it train larger and more complex AI models with the capability of reducing processing time from six days to two hours.[33][34] In December 2016, OpenAI released \"Universe\", a software platform for measuring and training an AI's general intelligence across the world's supply of games, websites, and other applications.[35][36][37][38]\n",
    "\n",
    "In 2017, OpenAI spent $7.9 million, or a quarter of its functional expenses, on cloud computing alone.[39] In comparison, DeepMind's total expenses in 2017 were $442 million. In the summer of 2018, simply training OpenAI's Dota 2 bots required renting 128,000 CPUs and 256 GPUs from Google for multiple weeks.\n",
    "\n",
    "In 2018, Musk resigned from his Board of Directors seat, citing \"a potential future conflict [of interest]\" with his role as CEO of Tesla due to Tesla's AI development for self-driving cars.[40] Sam Altman claims that Musk believed that OpenAI had fallen behind other players like Google and Musk proposed instead to take over OpenAI himself, which the board rejected. Musk subsequently left OpenAI.\n",
    "\n",
    "In February 2019, GPT-2 was announced, which gained attention for its ability to generate human-like text.[41]\n",
    "\n",
    "2019: Transition from non-profit\n",
    "In 2019, OpenAI transitioned from non-profit to \"capped\" for-profit, with the profit being capped at 100 times any investment.[42] According to OpenAI, the capped-profit model allows OpenAI Global, LLC to legally attract investment from venture funds and, in addition, to grant employees stakes in the company.[43] Many top researchers work for Google Brain, DeepMind, or Facebook, which offer stock options that a nonprofit would be unable to.[44] Before the transition, public disclosure of the compensation of top employees at OpenAI was legally required.[45]\n",
    "\n",
    "The company then distributed equity to its employees and partnered with Microsoft,[46] announcing an investment package of $1 billion into the company. Since then, OpenAI systems have run on an Azure-based supercomputing platform from Microsoft.[47][48][49]\n",
    "\n",
    "OpenAI Global, LLC then announced its intention to commercially license its technologies.[50] It planned to spend the $1 billion \"within five years, and possibly much faster\".[51] Altman has stated that even a billion dollars may turn out to be insufficient, and that the lab may ultimately need \"more capital than any non-profit has ever raised\" to achieve artificial general intelligence.[52]\n",
    "\n",
    "The transition from a nonprofit to a capped-profit company was viewed with skepticism by Oren Etzioni of the nonprofit Allen Institute for AI, who agreed that wooing top researchers to a nonprofit is difficult, but stated \"I disagree with the notion that a nonprofit can't compete\" and pointed to successful low-budget projects by OpenAI and others. \"If bigger and better funded was always better, then IBM would still be number one.\"\n",
    "\n",
    "The nonprofit, OpenAI, Inc., is the sole controlling shareholder of OpenAI Global, LLC, which, despite being a for-profit company, retains a formal fiduciary responsibility to OpenAI, Inc.'s nonprofit charter. A majority of OpenAI, Inc.'s board is barred from having financial stakes in OpenAI Global, LLC.[43] In addition, minority members with a stake in OpenAI Global, LLC are barred from certain votes due to conflict of interest.[44] Some researchers have argued that OpenAI Global, LLC's switch to for-profit status is inconsistent with OpenAI's claims to be \"democratizing\" AI.[53]\n",
    "\n",
    "2020–2023: ChatGPT, DALL-E, partnership with Microsoft\n",
    "In 2020, OpenAI announced GPT-3, a language model trained on large internet datasets. GPT-3 is aimed at natural language answering questions, but it can also translate between languages and coherently generate improvised text. It also announced that an associated API, named simply \"the API\", would form the heart of its first commercial product.[54]\n",
    "\n",
    "Eleven employees left OpenAI, mostly between December 2020 and January 2021, in order to establish Anthropic.[55]\n",
    "\n",
    "In 2021, OpenAI introduced DALL-E, a specialized deep learning model adept at generating complex digital images from textual descriptions, utilizing a variant of the GPT-3 architecture.[56]\n",
    "\n",
    "\n",
    "The release of ChatGPT was a major event in the AI boom. By January 2023, ChatGPT had become what was then the fastest-growing consumer software application in history, gaining over 100 million users in two months.[57]\n",
    "In December 2022, OpenAI received widespread media coverage after launching a free preview of ChatGPT, its new AI chatbot based on GPT-3.5. According to OpenAI, the preview received over a million signups within the first five days.[58] According to anonymous sources cited by Reuters in December 2022, OpenAI Global, LLC was projecting $200 million of revenue in 2023 and $1 billion in revenue in 2024.[59]\n",
    "\n",
    "In January 2023, OpenAI Global, LLC was in talks for funding that would value the company at $29 billion, double its 2021 value.[60] On January 23, 2023, Microsoft announced a new US$10 billion investment in OpenAI Global, LLC over multiple years, partially needed to use Microsoft's cloud-computing service Azure.[61][62] Rumors of this deal suggested that Microsoft may receive 75% of OpenAI's profits until it secures its investment return and a 49% stake in the company.[63] The investment is believed to be a part of Microsoft's efforts to integrate OpenAI's ChatGPT into the Bing search engine. Google announced a similar AI application (Bard), after ChatGPT was launched, fearing that ChatGPT could threaten Google's place as a go-to source for information.[64][65]\n",
    "\n",
    "On February 7, 2023, Microsoft announced that it was building AI technology based on the same foundation as ChatGPT into Microsoft Bing, Edge, Microsoft 365 and other products.[66]\n",
    "\n",
    "On March 3, 2023, Reid Hoffman resigned from his board seat, citing a desire to avoid conflicts of interest with his investments in AI companies via Greylock Partners, and his co-founding of the AI startup Inflection AI. Hoffman remained on the board of Microsoft, a major investor in OpenAI.[67]\n",
    "\n",
    "On March 14, 2023, OpenAI released GPT-4, both as an API (with a waitlist) and as a feature of ChatGPT Plus.[68]\n",
    "\n",
    "\n",
    "Altman and Sutskever at Tel Aviv University in 2023\n",
    "On May 22, 2023, Sam Altman, Greg Brockman and Ilya Sutskever posted recommendations for the governance of superintelligence.[69] They consider that superintelligence could happen within the next 10 years, allowing a \"dramatically more prosperous future\" and that \"given the possibility of existential risk, we can't just be reactive\". They propose creating an international watchdog organization similar to IAEA to oversee AI systems above a certain capability threshold, suggesting that relatively weak AI systems on the other side should not be overly regulated. They also call for more technical safety research for superintelligences, and ask for more coordination, for example through governments launching a joint project which \"many current efforts become part of\".[69][70]\n",
    "\n",
    "In July 2023, OpenAI launched the superalignment project, aiming to find within 4 years how to align future superintelligences by automating alignment research using AI.[71]\n",
    "\n",
    "In August 2023, it was announced that OpenAI had acquired the New York-based start-up Global Illumination, a company that deploys AI to develop digital infrastructure and creative tools.[72]\n",
    "\n",
    "On September 21, 2023, Microsoft had begun rebranding all variants of its Copilot to Microsoft Copilot, including the former Bing Chat and the Microsoft 365 Copilot.[73] This strategy was followed in December 2023 by adding the MS-Copilot to many installations of Windows 11 and Windows 10 as well as a standalone Microsoft Copilot app released for Android[74] and one released for iOS thereafter.[75]\n",
    "\n",
    "In October 2023, Sam Altman and Peng Xiao, CEO of the Emirati AI firm G42, announced Open AI would let G42 deploy Open AI technology.[76]\n",
    "\n",
    "On November 6, 2023, OpenAI launched GPTs, allowing individuals to create customized versions of ChatGPT for specific purposes, further expanding the possibilities of AI applications across various industries.[77] On November 14, 2023, OpenAI announced they temporarily suspended new sign-ups for ChatGPT Plus due to high demand.[78] Access for newer subscribers re-opened a month later on December 13.[79]\n",
    "\n",
    "2024: Public/Non-Profit Efforts, Sora, Partnership with Apple\n",
    "In January 2024, OpenAI partnered with Arizona State University to provide complete access to ChatGPT Enterprise in its first educational collaboration.[80]\n",
    "\n",
    "In February, amidst SEC probes and investigations into CEO Altman's communications[81] OpenAI unveiled its text-to-video model Sora (text-to-video model), currently available to red teams for managing risks[82][83]\n",
    "\n",
    "On February 29, 2024, Elon Musk filed a lawsuit against OpenAI and CEO Sam Altman, accusing them of shifting focus from public benefit to profit maximization—a case OpenAI dismissed as “incoherent” and “frivolous,” though Musk later revived legal action against Altman and others in August 2024.[84][85][86][87]\n",
    "\n",
    "In May 2024, significant leadership changes occurred as Chief Scientist Ilya Sutskever resigned—being succeeded by Jakub Pachocki—and co-leader Jan Leike departed amid concerns over safety and trust.[88][89] That same month, OpenAI formed a partnership with Reddit to integrate its content into OpenAI products[90] and inked content deals with News Corp, along with licensing arrangements involving publishers such as Axios and Vox Media.[91]\n",
    "\n",
    "In June 2024, OpenAI joined forces with Apple Inc. to integrate ChatGPT features into Apple Intelligence and iPhone[92] and added former NSA head Paul Nakasone to its board,[93] while acquiring Multi, a startup focused on remote collaboration.[94]\n",
    "\n",
    "In July 2024, Reuters reported that OpenAI was developing a project, codenamed 'Strawberry', to enhance AI reasoning—a project later released in September as the o1 model.[95][96]\n",
    "\n",
    "In August 2024, cofounder John Schulman left to join rival startup Anthropic, and OpenAI's president Greg Brockman took extended leave until November.[97]\n",
    "\n",
    "In September 2024, OpenAI's global affairs chief endorsed the UK's “smart” AI regulation during testimony to a House of Lords committee,[98] Meanwhile, CTO Mira Murati announced her departure amid internal concerns.[99][100]\n",
    "\n",
    "In October 2024, OpenAI secured $6.6 billion in funding—valuing it at $157 billion—with major investors including Microsoft, Nvidia, and SoftBank,[101] It also acquired the domain Chat.com,[102][103] and saw the return of Greg Brockman after his brief absence.[104]\n",
    "\n",
    "In December 2024, during the \"12 Days of OpenAI\" event, the company launched the Sora model for ChatGPT Plus and Pro users,[105][106] It also launched the advanced OpenAI o1 reasoning model[107][108] Additionally, ChatGPT Pro—a $200/month subscription service offering unlimited o1 access and enhanced voice features—was introduced, and preliminary benchmark results for the upcoming OpenAI o3 models were shared.[109]\n",
    "\n",
    "2025\n",
    "On January 20, 2025, DeepSeek released the \"DeepSeek-R1\" model, which rivaled the performance of OpenAI's o1 and was open-weight.[110] DeepSeek claimed that this model only took $5.6 million to train. This news led to panic from investors and caused Nvidia to record the biggest single day market cap loss in history losing $589 billion on January 27.[111]\n",
    "\n",
    "On January 21, 2025, it was announced that OpenAI, Oracle, SoftBank and MGX would launch The Stargate Project, a joint venture to build an AI infrastructure system in conjunction with the US government. The project takes its name from OpenAI's existing \"Stargate\" supercomputer project and is estimated to cost $500 billion. The project will be funded over the next four years.[112]\n",
    "\n",
    "On January 23, OpenAI released Operator, an AI agent and web automation tool for accessing websites to execute goals defined by users. The feature was only available to Pro users in the United States.[113][114]\n",
    "\n",
    "On February 2, OpenAI made a deep research agent, that achieved an accuracy of 26.6 percent on Humanity's Last Exam (HLE) benchmark, available to $200-monthly-fee paying users with up to 100 queries per month, while more “limited access” was promised for Plus, Team and later Enterprise users.[115]\n",
    "\n",
    "In February, OpenAI underwent a rebranding with a new typeface, word mark, symbol and palette.[116] OpenAI began collaborating with Broadcom in 2024 to design a custom AI chip capable of both training and inference targeted for mass production in 2026 and to be manufactured by TSMC in 3 nm node. This initiative is intended to reduce OpenAI's dependence on Nvidia GPUs, which are costly and face high demand in the market. [117]\n",
    "\n",
    "On February 13, Sam Altman announced that GPT-4.5, internally known as \"Orion\", will be the last model without full chain-of-thought reasoning. Altman also indicated that GPT-5, expected to be released within months, could unify the O-Series and GPT-Series models, eliminating the need to choose between them and phasing out O-series models.[118][119]\n",
    "\n",
    "In March 2025, OpenAI signed an $11.9 billion agreement with CoreWeave, an Nvidia-backed, AI-focused cloud service provider. As part of the deal, OpenAI will receive $350 million worth of CoreWeave shares and gain access to its AI infrastructure, which includes over a quarter million NVIDIA GPUs.[120]\n",
    "\n",
    "In April 2025, OpenAI raised $40 billion at a $300 billion post-money valuation, marking the largest private technology deal on record. The financing round was led by SoftBank, with other participants including Microsoft, Coatue, Altimeter, and Thrive.[121][122]\n",
    "\n",
    "On April 9, 2025, OpenAI countersued Musk in federal court, alleging that he had engaged in \"bad-faith tactics\" to slow the company's progress and seize its innovations for his personal benefit. OpenAI also argued that Musk had previously supported the creation of a for-profit structure and had expressed interest in controlling OpenAI himself. The countersuit seeks damages and legal measures to prevent further alleged interference.[123]\n",
    "\n",
    "In May 2025, it was reported that OpenAI had agreed to acquire \"Windsurf\", an AI-assisted coding tool formerly known as \"Codeium\", for approximately $3 billion.[124] Windsurf was valued at $1.25 billion in 2024, after a $150 million funding round led by the venture capital firm General Catalyst.[125]\n",
    "\n",
    "On May 11, 2025, Financial Times reported that OpenAI and Microsoft are rewriting terms of their multibillion-dollar partnership in a negotiation designed to allow the ChatGPT maker to launch a future IPO, while protecting the software giant's access to cutting-edge AI models.[126]\n",
    "\n",
    "On May 21, 2025, OpenAI announced the $6.5 billion acquisition of io, an AI hardware start-up founded by former Apple designer Jony Ive in 2024.[127][128][129] The two companies will merge to \"work more intimately with the research, engineering, and product teams in San Francisco\", and \"Jony will assume deep design and creative responsibilities across OpenAI\" as the company develops new hardware products powered by AI technology, according to a press release.[130][129] The deal was reported to be the company's largest acquisition to date.[131] On July 9, 2025, OpenAI announced the completion of the merger with io.[132]\n",
    "\n",
    "In June 2025, OpenAI began renting Google Cloud's Tensor Processing Units (TPUs) to support ChatGPT and related services, marking its first meaningful use of non‑Nvidia AI chips.[133] This strategic move represents a deliberate shift away from exclusive dependency on Microsoft Azure and Nvidia GPUs, enabling diversification of compute infrastructure and potential cost reductions for inference workloads.\n",
    "\n",
    "In July 2025, the United States Department of Defense announced that OpenAI had received a $200 million contract for AI in the military, along with Anthropic, Google, and xAI.[134] In the same month, the company signed a 'strategic partnership' with the UK Government to use ChatGPT and other AI tools across government and public services.[135][136]\n",
    "\n",
    "Management\n",
    "\n",
    "OpenAI's corporate structure\n",
    "Key employees\n",
    "CEO and co-founder: Sam Altman, former president of the start-up accelerator Y Combinator\n",
    "President and co-founder: Greg Brockman, former CTO, 3rd employee of Stripe[137]\n",
    "Chief Scientist Officer: Jakub Pachocki, former Director of Research at OpenAI[88]\n",
    "Chief Operating Officer: Brad Lightcap, previously at Y Combinator and JPMorgan Chase[138]\n",
    "Chief Financial Officer: Sarah Friar, former Nextdoor CEO and former CFO at Block, Inc.[139]\n",
    "Chief Product Officer: Kevin Weil, previously at Twitter, Inc. and Meta Platforms[139]\n",
    "Chief Research Officer: Mark Chen, former SVP of Research at OpenAI[140]\n",
    "Chief Compliance Officer: Scott Schools, former Chief Compliance Officer of Uber\n",
    "\n",
    "Board of directors of the OpenAI nonprofit\n",
    "Bret Taylor (chairman), former chairman of Twitter's board of directors and co-CEO of Salesforce\n",
    "Sam Altman\n",
    "Lawrence Summers, former U.S. Secretary of the Treasury and President of Harvard University\n",
    "Adam D'Angelo, co-founder and CEO of Quora\n",
    "Sue Desmond-Hellmann, former CEO of the Bill & Melinda Gates Foundation\n",
    "Nicole Seligman, attorney and former executive vice president of the Sony Corporation\n",
    "Fidji Simo, CEO and chair of Instacart\n",
    "Paul Nakasone, former Director of the National Security Agency (2018–2024)[141]\n",
    "Zico Kolter, computer scientist[142]\n",
    "Adebayo Ogunlesi, managing partner at Global Infrastructure Partners[143]\n",
    "Sources:[10][144]\n",
    "\n",
    "Principal individual investors\n",
    "Source:[137]\n",
    "\n",
    "Reid Hoffman, LinkedIn co-founder[145]\n",
    "Peter Thiel, PayPal co-founder[145]\n",
    "Jessica Livingston, a founding partner of Y Combinator\n",
    "Elon Musk, co-founder\n",
    "Strategy\n",
    "In the early years before his 2018 departure, Musk posed the question: \"What is the best thing we can do to ensure the future is good? We could sit on the sidelines or we can encourage regulatory oversight, or we could participate with the right structure with people who care deeply about developing AI in a way that is safe and is beneficial to humanity.\" He acknowledged that \"there is always some risk that in actually trying to advance (friendly) AI we may create the thing we are concerned about\"; but nonetheless, that the best defense was \"to empower as many people as possible to have AI. If everyone has AI powers, then there's not any one person or a small set of individuals who can have AI superpower.\"[137]\n",
    "\n",
    "Musk and Altman's counterintuitive strategy—that of trying to reduce the potential harm of AI by giving everyone access to it—is controversial among those concerned with existential risk from AI. Philosopher Nick Bostrom said, \"If you have a button that could do bad things to the world, you don't want to give it to everyone.\"[27] During a 2016 conversation about technological singularity, Altman said, \"We don't plan to release all of our source code\" and mentioned a plan to \"allow wide swaths of the world to elect representatives to a new governance board\". Greg Brockman stated, \"Our goal right now ... is to do the best thing there is to do. It's a little vague.\"[146]\n",
    "\n",
    "Conversely, OpenAI's initial decision to withhold GPT-2 around 2019, due to a wish to \"err on the side of caution\" in the presence of potential misuse, was criticized by advocates of openness. Delip Rao, an expert in text generation, stated, \"I don't think [OpenAI] spent enough time proving [GPT-2] was actually dangerous.\" Other critics argued that open publication was necessary to replicate the research and to create countermeasures.[147]\n",
    "\n",
    "More recently, in 2022, OpenAI published its approach to the alignment problem, anticipating that aligning AGI to human values would likely be harder than aligning current AI systems: \"Unaligned AGI could pose substantial risks to humanity[,] and solving the AGI alignment problem could be so difficult that it will require all of humanity to work together\". They stated that they intended to explore how to better use human feedback to train AI systems, and how to safely use AI to incrementally automate alignment research.[148]\n",
    "\n",
    "In 2024, following the temporary removal of Sam Altman and his return, many employees gradually left OpenAI, including most of the original leadership team and a significant number of AI safety researchers.[149][150] OpenAI also planned a restructuring to operate as a for-profit company. This restructuring could grant Altman a stake in the company.[151]\n",
    "\n",
    "In March 2025, OpenAI made a policy proposal for the Trump administration to preempt pending AI-related state laws with federal laws.[152] According to OpenAI, \"This framework would extend the tradition of government receiving learnings and access, where appropriate, in exchange for providing the private sector relief from the 781 and counting proposed AI-related bills already introduced this year in US states.\"[153]\n",
    "\n",
    "Stance on China\n",
    "In February 2025, OpenAI CEO Sam Altman stated that the company is interested in collaborating with the People's Republic of China, despite regulatory restrictions imposed by the U.S. government.[154] This shift comes in response to the growing influence of the Chinese artificial intelligence company DeepSeek, which has disrupted the AI market with open models, including DeepSeek V3 and DeepSeek R1.[155][156]\n",
    "\n",
    "The emergence of DeepSeek has led major Chinese tech firms such as Baidu and others to embrace an open-source strategy, intensifying competition with OpenAI. Altman acknowledged the uncertainty regarding U.S. government approval for AI cooperation with China but emphasized the importance of fostering dialogue between technological leaders in both nations.[157] In response to DeepSeek, OpenAI overhauled its security operations to better guard against industrial espionage, particularly amid allegations that DeepSeek had improperly copied OpenAI's distillation techniques.[158]\n",
    "\n",
    "Products and applications\n",
    "Main article: Products and applications of OpenAI\n",
    "Notable products by OpenAI include:\n",
    "\n",
    "ChatGPT\n",
    "ChatGPT Deep Research\n",
    "DALL-E\n",
    "GPT-2\n",
    "GPT-3\n",
    "GPT-4\n",
    "OpenAI Codex\n",
    "OpenAI Five\n",
    "OpenAI o1\n",
    "OpenAI o3\n",
    "SearchGPT\n",
    "Sora (text-to-video model)\n",
    "Whisper (speech recognition system)\n",
    "API\n",
    "This section is an excerpt from Products and applications of OpenAI § API.[edit]\n",
    "In June 2020, OpenAI announced a multi-purpose API which it said was \"for accessing new AI models developed by OpenAI\" to let developers call on it for \"any English language AI task\".[159][160]\n",
    "Controversies\n",
    "Firing of Altman\n",
    "Further information: Removal of Sam Altman from OpenAI\n",
    "On November 17, 2023, Sam Altman was removed as CEO when its board of directors (composed of Helen Toner, Ilya Sutskever, Adam D'Angelo and Tasha McCauley) cited a lack of confidence in him. Chief Technology Officer Mira Murati took over as interim CEO. Greg Brockman, the president of OpenAI, was also removed as chairman of the board[161][162] and resigned from the company's presidency shortly thereafter.[163] Three senior OpenAI researchers subsequently resigned: director of research and GPT-4 lead Jakub Pachocki, head of AI risk Aleksander Mądry [pl], and researcher Szymon Sidor.[164][165]\n",
    "\n",
    "On November 18, 2023, there were reportedly talks of Altman returning as CEO amid pressure placed upon the board by investors such as Microsoft and Thrive Capital, who objected to Altman's departure.[166] Although Altman himself spoke in favor of returning to OpenAI, he has since stated that he considered starting a new company and bringing former OpenAI employees with him if talks to reinstate him didn't work out.[167] The board members agreed \"in principle\" to resign if Altman returned.[168] On November 19, 2023, negotiations with Altman to return failed and Murati was replaced by Emmett Shear as interim CEO.[169] The board initially contacted Anthropic CEO Dario Amodei (a former OpenAI executive) about replacing Altman, and proposed a merger of the two companies, but both offers were declined.[170]\n",
    "\n",
    "On November 20, 2023, Microsoft CEO Satya Nadella announced Altman and Brockman would be joining Microsoft to lead a new advanced AI research team, but added that they were still committed to OpenAI despite recent events.[171] Before the partnership with Microsoft was finalized, Altman gave the board another opportunity to negotiate with him.[172] About 738 of OpenAI's 770 employees, including Murati and Sutskever, signed an open letter stating they would quit their jobs and join Microsoft if the board did not rehire Altman and then resign.[173][174] This prompted OpenAI investors to consider legal action against the board as well.[175] In response, OpenAI management sent an internal memo to employees stating that negotiations with Altman and the board had resumed and would take some time.[176]\n",
    "\n",
    "On November 21, 2023, after continued negotiations, Altman and Brockman returned to the company in their prior roles along with a reconstructed board made up of new members Bret Taylor (as chairman) and Lawrence Summers, with D'Angelo remaining.[177] On November 22, 2023, emerging reports suggested that Sam Altman's dismissal from OpenAI may have been linked to his alleged mishandling of a significant breakthrough in the organization's secretive project codenamed Q*. According to sources within OpenAI, Q* is aimed at developing AI capabilities in logical and mathematical reasoning, and reportedly involves performing math on the level of grade-school students.[178][179][180] Concerns about Altman's response to this development, specifically regarding the discovery's potential safety implications, were reportedly raised with the company's board shortly before Altman's firing.[181] On November 29, 2023, OpenAI announced that an anonymous Microsoft employee had joined the board as a non-voting member to observe the company's operations;[182] Microsoft resigned from the board in July 2024.[183]\n",
    "\n",
    "Content moderation contract with Sama\n",
    "For broader coverage of this topic, see Content moderation and working conditions.\n",
    "In January 2023, OpenAI has been criticized for outsourcing the annotation of data sets to Sama, a company based in San Francisco that employed workers in Kenya. These annotations were used to train an AI model to detect toxicity, which could then be used to moderate toxic content, notably from ChatGPT's training data and outputs. However, these pieces of text usually contained detailed descriptions of various types of violence, including sexual violence. The investigation uncovered that OpenAI began sending snippets of data to Sama as early as November 2021. The four Sama employees interviewed by Time described themselves as mentally scarred. OpenAI paid Sama $12.50 per hour of work, and Sama was redistributing the equivalent of between $1.32 and $2.00 per hour post-tax to its annotators. Sama's spokesperson said that the $12.50 was also covering other implicit costs, among which were infrastructure expenses, quality assurance and management.[184]\n",
    "\n",
    "Lack of technological transparency\n",
    "In March 2023, the company was also criticized for disclosing particularly few technical details about products like GPT-4, contradicting its initial commitment to openness and making it harder for independent researchers to replicate its work and develop safeguards. OpenAI cited competitiveness and safety concerns to justify this strategic turn. OpenAI's former chief scientist Ilya Sutskever argued in 2023 that open-sourcing increasingly capable models was increasingly risky, and that the safety reasons for not open-sourcing the most potent AI models would become \"obvious\" in a few years.[185]\n",
    "\n",
    "Non-disparagement agreement\n",
    "On May 17, 2024, a Vox article reported that OpenAI was asking departing employees to sign a lifelong non-disparagement agreement forbidding them from criticizing OpenAI or acknowledging the existence of the agreement. Daniel Kokotajlo, a former employee, publicly stated that he forfeited his vested equity in OpenAI in order to leave without signing the agreement.[186][187] Sam Altman stated that he was unaware of the equity cancellation provision, and that OpenAI never enforced it to cancel any employee's vested equity.[188] Vox published leaked documents and emails challenging this claim.[189] On May 23, 2024, OpenAI sent a memo releasing former employees from the agreement.[190]\n",
    "\n",
    "Proposed shift from nonprofit control\n",
    "OpenAI, Inc. was originally designed as a nonprofit in order to ensure that AGI \"benefits all of humanity\" rather than \"the private gain of any person\". In 2019, it created OpenAI Global, LLC, a capped-profit subsidiary controlled by the nonprofit. In December 2024, OpenAI proposed a restructuring plan to convert the capped-profit into a Delaware-based public benefit corporation (PBC), and to release it from the control of the nonprofit. The nonprofit would sell its control and other assets, getting equity in return, and would use it to fund and pursue separate charitable projects, including in science and education. OpenAI's leadership described the change as necessary to secure additional investments, and claimed that the nonprofit's founding mission to ensure AGI \"benefits all of humanity\" would be better fulfilled.[191]\n",
    "\n",
    "The plan has been criticized by experts and former employees. A legal letter named \"Not For Private Gain\" asked the attorneys general of California and Delaware to intervene, stating that the restructuring is illegal and would remove governance safeguards from the nonprofit and the attorneys general.[192] The letter argues that OpenAI's complex structure was deliberately designed to remain accountable to its mission, without the conflicting pressure of maximizing profits. It contends that the nonprofit is best positioned to advance its mission of ensuring AGI benefits all of humanity by continuing to control OpenAI Global, LLC, whatever the amount of equity that it could get in exchange.[193] PBCs can choose how they balance their mission with profit-making. Controlling shareholders have a large influence on how closely a PBC sticks to its mission.[194][193]\n",
    "\n",
    "Legally, under nonprofit law, assets dedicated to a charitable purpose must continue to serve that purpose. To change its purpose, OpenAI would have to prove that its current purposes have become unlawful, impossible, impracticable, or wasteful.[195] Elon Musk, who had initiated a lawsuit against OpenAI and Altman in August 2024 alleging the company violated contract provisions by prioritizing profit over its mission, reportedly leveraged this lawsuit to stop the restructuring plan.[194] On February 10, 2025, a consortium of investors led by Elon Musk submitted a $97.4 billion unsolicited bid to buy the nonprofit that controls OpenAI, declaring willingness to match or exceed any better offer.[196][197] The offer was rejected on 14 February 2025, with OpenAI stating that it was not for sale,[198] but the offer complicated Altman's restructuring plan by suggesting a lower bar for how much the nonprofit should be valued.[197]\n",
    "\n",
    "In May 2025, the nonprofit's board chairman Bret Taylor announced that the nonprofit would renounce plans to cede control after outside pressure. The capped-profit still plans to transition to a PBC,[199] which critics said would diminish the nonprofit's control\n",
    "\"\"\""
   ]
  },
  {
   "cell_type": "markdown",
   "id": "76b1151c",
   "metadata": {},
   "source": [
    "- Use langchain API for the Splitting"
   ]
  },
  {
   "cell_type": "code",
   "execution_count": null,
   "id": "776817d2",
   "metadata": {},
   "outputs": [
    {
     "name": "stderr",
     "output_type": "stream",
     "text": [
      "Created a chunk of size 645, which is longer than the specified 200\n",
      "Created a chunk of size 498, which is longer than the specified 200\n",
      "Created a chunk of size 502, which is longer than the specified 200\n",
      "Created a chunk of size 1153, which is longer than the specified 200\n",
      "Created a chunk of size 239, which is longer than the specified 200\n",
      "Created a chunk of size 888, which is longer than the specified 200\n",
      "Created a chunk of size 649, which is longer than the specified 200\n",
      "Created a chunk of size 411, which is longer than the specified 200\n",
      "Created a chunk of size 648, which is longer than the specified 200\n",
      "Created a chunk of size 527, which is longer than the specified 200\n",
      "Created a chunk of size 309, which is longer than the specified 200\n",
      "Created a chunk of size 399, which is longer than the specified 200\n",
      "Created a chunk of size 562, which is longer than the specified 200\n",
      "Created a chunk of size 257, which is longer than the specified 200\n",
      "Created a chunk of size 394, which is longer than the specified 200\n",
      "Created a chunk of size 434, which is longer than the specified 200\n",
      "Created a chunk of size 588, which is longer than the specified 200\n",
      "Created a chunk of size 350, which is longer than the specified 200\n",
      "Created a chunk of size 218, which is longer than the specified 200\n",
      "Created a chunk of size 407, which is longer than the specified 200\n",
      "Created a chunk of size 772, which is longer than the specified 200\n",
      "Created a chunk of size 296, which is longer than the specified 200\n",
      "Created a chunk of size 781, which is longer than the specified 200\n",
      "Created a chunk of size 401, which is longer than the specified 200\n",
      "Created a chunk of size 406, which is longer than the specified 200\n",
      "Created a chunk of size 214, which is longer than the specified 200\n",
      "Created a chunk of size 311, which is longer than the specified 200\n",
      "Created a chunk of size 442, which is longer than the specified 200\n",
      "Created a chunk of size 247, which is longer than the specified 200\n",
      "Created a chunk of size 224, which is longer than the specified 200\n",
      "Created a chunk of size 265, which is longer than the specified 200\n",
      "Created a chunk of size 418, which is longer than the specified 200\n",
      "Created a chunk of size 356, which is longer than the specified 200\n",
      "Created a chunk of size 382, which is longer than the specified 200\n",
      "Created a chunk of size 210, which is longer than the specified 200\n",
      "Created a chunk of size 298, which is longer than the specified 200\n",
      "Created a chunk of size 429, which is longer than the specified 200\n",
      "Created a chunk of size 351, which is longer than the specified 200\n",
      "Created a chunk of size 302, which is longer than the specified 200\n",
      "Created a chunk of size 262, which is longer than the specified 200\n",
      "Created a chunk of size 440, which is longer than the specified 200\n",
      "Created a chunk of size 301, which is longer than the specified 200\n",
      "Created a chunk of size 282, which is longer than the specified 200\n",
      "Created a chunk of size 626, which is longer than the specified 200\n",
      "Created a chunk of size 406, which is longer than the specified 200\n",
      "Created a chunk of size 350, which is longer than the specified 200\n",
      "Created a chunk of size 720, which is longer than the specified 200\n",
      "Created a chunk of size 676, which is longer than the specified 200\n",
      "Created a chunk of size 443, which is longer than the specified 200\n",
      "Created a chunk of size 530, which is longer than the specified 200\n",
      "Created a chunk of size 355, which is longer than the specified 200\n",
      "Created a chunk of size 420, which is longer than the specified 200\n",
      "Created a chunk of size 412, which is longer than the specified 200\n",
      "Created a chunk of size 580, which is longer than the specified 200\n",
      "Created a chunk of size 598, which is longer than the specified 200\n",
      "Created a chunk of size 812, which is longer than the specified 200\n",
      "Created a chunk of size 805, which is longer than the specified 200\n",
      "Created a chunk of size 1106, which is longer than the specified 200\n",
      "Created a chunk of size 962, which is longer than the specified 200\n",
      "Created a chunk of size 601, which is longer than the specified 200\n",
      "Created a chunk of size 690, which is longer than the specified 200\n",
      "Created a chunk of size 835, which is longer than the specified 200\n",
      "Created a chunk of size 870, which is longer than the specified 200\n",
      "Created a chunk of size 936, which is longer than the specified 200\n"
     ]
    },
    {
     "data": {
      "text/plain": [
       "99"
      ]
     },
     "execution_count": 7,
     "metadata": {},
     "output_type": "execute_result"
    }
   ],
   "source": [
    "from langchain.text_splitter import CharacterTextSplitter\n",
    "\n",
    "splitter = CharacterTextSplitter(\n",
    "    separator=\"\\n\",\n",
    "    chunk_size = 200,\n",
    "    chunk_overlap = 0 #off\n",
    ")\n",
    "chunks = splitter.split_text(text)\n",
    "len(chunks)"
   ]
  },
  {
   "cell_type": "code",
   "execution_count": 10,
   "id": "006a9a74",
   "metadata": {},
   "outputs": [
    {
     "name": "stdout",
     "output_type": "stream",
     "text": [
      "645 , 498 , 502 , 107 , 1153 , 239 , 888 , 649 , 411 , 648 , 527 , 309 , 399 , 143 , 562 , 257 , 394 , 434 , 588 , 54 , 350 , 113 , 189 , 218 , 407 , 772 , 180 , 296 , 164 , 781 , 173 , 190 , 401 , 137 , 406 , 61 , 156 , 214 , 311 , 442 , 247 , 179 , 154 , 224 , 265 , 418 , 4 , 356 , 382 , 210 , 298 , 429 , 351 , 302 , 262 , 440 , 301 , 282 , 626 , 406 , 350 , 143 , 163 , 183 , 159 , 123 , 199 , 200 , 155 , 174 , 121 , 720 , 676 , 443 , 530 , 355 , 420 , 15 , 412 , 580 , 191 , 177 , 193 , 85 , 598 , 812 , 805 , 1106 , 120 , 962 , 34 , 601 , 27 , 690 , 37 , 835 , 870 , 936 , 262 , "
     ]
    }
   ],
   "source": [
    "for chunk in chunks:\n",
    "    print(len(chunk), end=\" , \")"
   ]
  },
  {
   "cell_type": "markdown",
   "id": "fb875265",
   "metadata": {},
   "source": [
    "- above CharacterTextSplitter has a problem some of the chuncks len excided the 200 so, for many resasons\n",
    "like instade of \\n we use dot(.) or space, double or tripple \\n's etc. this we can't determin so we use \n",
    "\n",
    "- RecursiveCharacterTextSplitter\n",
    "    - Splitting text by recursively look at characters.\n",
    "\n",
    "    - Recursively tries to split by different characters to find one that works."
   ]
  },
  {
   "cell_type": "code",
   "execution_count": 14,
   "id": "2616342f",
   "metadata": {},
   "outputs": [],
   "source": [
    "from langchain.text_splitter import RecursiveCharacterTextSplitter\n",
    "\n",
    "r_splitter = RecursiveCharacterTextSplitter(\n",
    "    separators=['\\n\\n', '\\n' , ' ', '.'],\n",
    "    chunk_size = 200,\n",
    "    chunk_overlap = 0 #off\n",
    ")\n",
    "r_chunks = r_splitter.split_text(text)"
   ]
  },
  {
   "cell_type": "code",
   "execution_count": 22,
   "id": "bd3e1b7e",
   "metadata": {},
   "outputs": [
    {
     "name": "stdout",
     "output_type": "stream",
     "text": [
      "244\n"
     ]
    }
   ],
   "source": [
    "print(len(r_chunks))"
   ]
  },
  {
   "cell_type": "code",
   "execution_count": 16,
   "id": "fa0625de",
   "metadata": {},
   "outputs": [
    {
     "name": "stdout",
     "output_type": "stream",
     "text": [
      "194 , 197 , 198 , 53 , 196 , 198 , 102 , 193 , 186 , 121 , 46 , 60 , 198 , 193 , 198 , 198 , 189 , 172 , 195 , 43 , 197 , 194 , 199 , 193 , 101 , 191 , 190 , 198 , 67 , 197 , 198 , 14 , 197 , 195 , 197 , 56 , 195 , 193 , 137 , 197 , 111 , 198 , 192 , 7 , 110 , 32 , 197 , 195 , 168 , 193 , 63 , 197 , 196 , 199 , 197 , 36 , 190 , 195 , 193 , 7 , 54 , 189 , 160 , 113 , 189 , 199 , 18 , 196 , 197 , 12 , 193 , 192 , 198 , 186 , 180 , 197 , 98 , 112 , 51 , 198 , 197 , 192 , 191 , 173 , 190 , 199 , 185 , 15 , 137 , 197 , 191 , 16 , 61 , 156 , 191 , 22 , 197 , 113 , 192 , 195 , 53 , 193 , 53 , 179 , 154 , 196 , 27 , 199 , 65 , 199 , 193 , 24 , 4 , 193 , 162 , 190 , 191 , 192 , 17 , 198 , 99 , 191 , 199 , 37 , 192 , 158 , 197 , 104 , 187 , 74 , 194 , 199 , 45 , 194 , 106 , 193 , 88 , 197 , 191 , 197 , 38 , 198 , 196 , 10 , 199 , 150 , 10 , 132 , 163 , 183 , 159 , 80 , 150 , 134 , 196 , 190 , 17 , 43 , 160 , 195 , 199 , 197 , 126 , 195 , 195 , 198 , 85 , 198 , 199 , 44 , 198 , 193 , 137 , 193 , 161 , 192 , 197 , 29 , 15 , 183 , 198 , 29 , 193 , 193 , 192 , 111 , 176 , 80 , 193 , 85 , 196 , 199 , 184 , 16 , 188 , 198 , 198 , 198 , 26 , 198 , 197 , 193 , 198 , 15 , 198 , 193 , 199 , 199 , 198 , 114 , 120 , 198 , 190 , 199 , 198 , 173 , 34 , 197 , 197 , 193 , 11 , 27 , 190 , 196 , 197 , 104 , 37 , 194 , 197 , 195 , 197 , 48 , 191 , 193 , 195 , 198 , 89 , 195 , 187 , 199 , 199 , 152 , 194 , 67 , "
     ]
    }
   ],
   "source": [
    "for chunk in r_chunks:\n",
    "    print(len(chunk), end=\" , \")"
   ]
  },
  {
   "cell_type": "code",
   "execution_count": 37,
   "id": "f5079194",
   "metadata": {},
   "outputs": [
    {
     "data": {
      "text/plain": [
       "'\"should be an extension of individual human wills and, in the spirit of liberty, as broadly and evenly distributed as possible\",[22] and that \"because of AI\\'s surprising history, it\\'s hard to predict'"
      ]
     },
     "execution_count": 37,
     "metadata": {},
     "output_type": "execute_result"
    }
   ],
   "source": [
    "maxstr = max(r_chunks, key=len)\n",
    "maxstr"
   ]
  },
  {
   "cell_type": "code",
   "execution_count": 35,
   "id": "8a787203",
   "metadata": {},
   "outputs": [
    {
     "data": {
      "text/plain": [
       "'2025'"
      ]
     },
     "execution_count": 35,
     "metadata": {},
     "output_type": "execute_result"
    }
   ],
   "source": [
    "minstr = min(r_chunks, key=len)\n",
    "minstr"
   ]
  }
 ],
 "metadata": {
  "kernelspec": {
   "display_name": "venv",
   "language": "python",
   "name": "python3"
  },
  "language_info": {
   "codemirror_mode": {
    "name": "ipython",
    "version": 3
   },
   "file_extension": ".py",
   "mimetype": "text/x-python",
   "name": "python",
   "nbconvert_exporter": "python",
   "pygments_lexer": "ipython3",
   "version": "3.11.4"
  }
 },
 "nbformat": 4,
 "nbformat_minor": 5
}
